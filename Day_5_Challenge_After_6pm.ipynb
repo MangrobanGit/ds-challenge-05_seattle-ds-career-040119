{
 "cells": [
  {
   "cell_type": "markdown",
   "metadata": {},
   "source": [
    "# ds-challenge-05_seattle-ds-career-040119\n",
    "\n",
    "## Plotting Attendance\n",
    "\n",
    "### 0. Getting Started\n",
    "\n",
    "Start by forking this repo and cloning your fork to your computer.\n",
    "\n",
    "### 1. Business Understanding\n",
    "\n",
    "You want to understand when your cohort typically arrives on campus.\n",
    "\n",
    "### 2. Data Understanding\n",
    "\n",
    "Each of you has access to an attendance spreadsheet that now contains five days of arrival times for you and your colleagues.\n",
    "\n",
    "### 3. Data Preparation\n",
    "\n",
    "#### 3(a) Load the data\n",
    "\n",
    "* Create a Jupyter Notebook."
   ]
  },
  {
   "cell_type": "markdown",
   "metadata": {},
   "source": [
    "* Load the arrival time data into Pandas from `data.csv`. "
   ]
  },
  {
   "cell_type": "markdown",
   "metadata": {},
   "source": [
    "---"
   ]
  },
  {
   "cell_type": "code",
   "execution_count": 2,
   "metadata": {},
   "outputs": [],
   "source": [
    "import pandas as pd\n",
    "import matplotlib.pyplot as plt"
   ]
  },
  {
   "cell_type": "code",
   "execution_count": 3,
   "metadata": {},
   "outputs": [
    {
     "data": {
      "text/html": [
       "<div>\n",
       "<style scoped>\n",
       "    .dataframe tbody tr th:only-of-type {\n",
       "        vertical-align: middle;\n",
       "    }\n",
       "\n",
       "    .dataframe tbody tr th {\n",
       "        vertical-align: top;\n",
       "    }\n",
       "\n",
       "    .dataframe thead th {\n",
       "        text-align: right;\n",
       "    }\n",
       "</style>\n",
       "<table border=\"1\" class=\"dataframe\">\n",
       "  <thead>\n",
       "    <tr style=\"text-align: right;\">\n",
       "      <th></th>\n",
       "      <th>8:56 AM</th>\n",
       "      <th>9:00 AM</th>\n",
       "      <th>7:45 AM</th>\n",
       "      <th>7:45 AM.1</th>\n",
       "      <th>8:05 AM</th>\n",
       "      <th>7:45 AM.2</th>\n",
       "    </tr>\n",
       "  </thead>\n",
       "  <tbody>\n",
       "    <tr>\n",
       "      <th>0</th>\n",
       "      <td>8:40 AM</td>\n",
       "      <td>8:40 AM</td>\n",
       "      <td>8:30 AM</td>\n",
       "      <td>8:30 AM</td>\n",
       "      <td>8:45 AM</td>\n",
       "      <td>8:20 AM</td>\n",
       "    </tr>\n",
       "    <tr>\n",
       "      <th>1</th>\n",
       "      <td>8:45 AM</td>\n",
       "      <td>8:20 AM</td>\n",
       "      <td>8:05 AM</td>\n",
       "      <td>8:00 AM</td>\n",
       "      <td>8:05 AM</td>\n",
       "      <td>8:00 AM</td>\n",
       "    </tr>\n",
       "    <tr>\n",
       "      <th>2</th>\n",
       "      <td>8:40 AM</td>\n",
       "      <td>8:40 AM</td>\n",
       "      <td>8:40 AM</td>\n",
       "      <td>8:25 AM</td>\n",
       "      <td>8:40 AM</td>\n",
       "      <td>8:40 AM</td>\n",
       "    </tr>\n",
       "    <tr>\n",
       "      <th>3</th>\n",
       "      <td>8:55 AM</td>\n",
       "      <td>8:50 AM</td>\n",
       "      <td>8:55 AM</td>\n",
       "      <td>8:10 AM</td>\n",
       "      <td>8:15 AM</td>\n",
       "      <td>8:05 AM</td>\n",
       "    </tr>\n",
       "    <tr>\n",
       "      <th>4</th>\n",
       "      <td>8:45 AM</td>\n",
       "      <td>8:45 AM</td>\n",
       "      <td>8:45 AM</td>\n",
       "      <td>8:40 AM</td>\n",
       "      <td>8:30 AM</td>\n",
       "      <td>8:40 AM</td>\n",
       "    </tr>\n",
       "  </tbody>\n",
       "</table>\n",
       "</div>"
      ],
      "text/plain": [
       "   8:56 AM  9:00 AM  7:45 AM 7:45 AM.1  8:05 AM 7:45 AM.2\n",
       "0  8:40 AM  8:40 AM  8:30 AM   8:30 AM  8:45 AM   8:20 AM\n",
       "1  8:45 AM  8:20 AM  8:05 AM   8:00 AM  8:05 AM   8:00 AM\n",
       "2  8:40 AM  8:40 AM  8:40 AM   8:25 AM  8:40 AM   8:40 AM\n",
       "3  8:55 AM  8:50 AM  8:55 AM   8:10 AM  8:15 AM   8:05 AM\n",
       "4  8:45 AM  8:45 AM  8:45 AM   8:40 AM  8:30 AM   8:40 AM"
      ]
     },
     "execution_count": 3,
     "metadata": {},
     "output_type": "execute_result"
    }
   ],
   "source": [
    "# Load arrival times dataset\n",
    "arrivals = pd.read_csv('data.csv')\n",
    "arrivals.head()"
   ]
  },
  {
   "cell_type": "markdown",
   "metadata": {},
   "source": [
    "No headers. Need to not skip the first row."
   ]
  },
  {
   "cell_type": "code",
   "execution_count": 4,
   "metadata": {},
   "outputs": [],
   "source": [
    "pd.read_csv?"
   ]
  },
  {
   "cell_type": "code",
   "execution_count": 5,
   "metadata": {},
   "outputs": [
    {
     "data": {
      "text/html": [
       "<div>\n",
       "<style scoped>\n",
       "    .dataframe tbody tr th:only-of-type {\n",
       "        vertical-align: middle;\n",
       "    }\n",
       "\n",
       "    .dataframe tbody tr th {\n",
       "        vertical-align: top;\n",
       "    }\n",
       "\n",
       "    .dataframe thead th {\n",
       "        text-align: right;\n",
       "    }\n",
       "</style>\n",
       "<table border=\"1\" class=\"dataframe\">\n",
       "  <thead>\n",
       "    <tr style=\"text-align: right;\">\n",
       "      <th></th>\n",
       "      <th>0</th>\n",
       "      <th>1</th>\n",
       "      <th>2</th>\n",
       "      <th>3</th>\n",
       "      <th>4</th>\n",
       "      <th>5</th>\n",
       "    </tr>\n",
       "  </thead>\n",
       "  <tbody>\n",
       "    <tr>\n",
       "      <th>0</th>\n",
       "      <td>8:56 AM</td>\n",
       "      <td>9:00 AM</td>\n",
       "      <td>7:45 AM</td>\n",
       "      <td>7:45 AM</td>\n",
       "      <td>8:05 AM</td>\n",
       "      <td>7:45 AM</td>\n",
       "    </tr>\n",
       "    <tr>\n",
       "      <th>1</th>\n",
       "      <td>8:40 AM</td>\n",
       "      <td>8:40 AM</td>\n",
       "      <td>8:30 AM</td>\n",
       "      <td>8:30 AM</td>\n",
       "      <td>8:45 AM</td>\n",
       "      <td>8:20 AM</td>\n",
       "    </tr>\n",
       "    <tr>\n",
       "      <th>2</th>\n",
       "      <td>8:45 AM</td>\n",
       "      <td>8:20 AM</td>\n",
       "      <td>8:05 AM</td>\n",
       "      <td>8:00 AM</td>\n",
       "      <td>8:05 AM</td>\n",
       "      <td>8:00 AM</td>\n",
       "    </tr>\n",
       "    <tr>\n",
       "      <th>3</th>\n",
       "      <td>8:40 AM</td>\n",
       "      <td>8:40 AM</td>\n",
       "      <td>8:40 AM</td>\n",
       "      <td>8:25 AM</td>\n",
       "      <td>8:40 AM</td>\n",
       "      <td>8:40 AM</td>\n",
       "    </tr>\n",
       "    <tr>\n",
       "      <th>4</th>\n",
       "      <td>8:55 AM</td>\n",
       "      <td>8:50 AM</td>\n",
       "      <td>8:55 AM</td>\n",
       "      <td>8:10 AM</td>\n",
       "      <td>8:15 AM</td>\n",
       "      <td>8:05 AM</td>\n",
       "    </tr>\n",
       "  </tbody>\n",
       "</table>\n",
       "</div>"
      ],
      "text/plain": [
       "         0        1        2        3        4        5\n",
       "0  8:56 AM  9:00 AM  7:45 AM  7:45 AM  8:05 AM  7:45 AM\n",
       "1  8:40 AM  8:40 AM  8:30 AM  8:30 AM  8:45 AM  8:20 AM\n",
       "2  8:45 AM  8:20 AM  8:05 AM  8:00 AM  8:05 AM  8:00 AM\n",
       "3  8:40 AM  8:40 AM  8:40 AM  8:25 AM  8:40 AM  8:40 AM\n",
       "4  8:55 AM  8:50 AM  8:55 AM  8:10 AM  8:15 AM  8:05 AM"
      ]
     },
     "execution_count": 5,
     "metadata": {},
     "output_type": "execute_result"
    }
   ],
   "source": [
    "# Load arrival times dataset\n",
    "arrivals = pd.read_csv('data.csv'\n",
    "                      ,header = None)\n",
    "arrivals.head()"
   ]
  },
  {
   "cell_type": "code",
   "execution_count": 6,
   "metadata": {},
   "outputs": [
    {
     "name": "stdout",
     "output_type": "stream",
     "text": [
      "<class 'pandas.core.frame.DataFrame'>\n",
      "RangeIndex: 23 entries, 0 to 22\n",
      "Data columns (total 6 columns):\n",
      "day_001    23 non-null object\n",
      "day_002    23 non-null object\n",
      "day_003    23 non-null object\n",
      "day_004    23 non-null object\n",
      "day_005    23 non-null object\n",
      "day_006    23 non-null object\n",
      "dtypes: object(6)\n",
      "memory usage: 1.2+ KB\n"
     ]
    }
   ],
   "source": [
    "#Manually make some column names :P\n",
    "cols = ['day_001','day_002','day_003','day_004','day_005','day_006']\n",
    "arrivals.columns = cols\n",
    "arrivals.info()"
   ]
  },
  {
   "cell_type": "code",
   "execution_count": 7,
   "metadata": {},
   "outputs": [
    {
     "data": {
      "text/html": [
       "<div>\n",
       "<style scoped>\n",
       "    .dataframe tbody tr th:only-of-type {\n",
       "        vertical-align: middle;\n",
       "    }\n",
       "\n",
       "    .dataframe tbody tr th {\n",
       "        vertical-align: top;\n",
       "    }\n",
       "\n",
       "    .dataframe thead th {\n",
       "        text-align: right;\n",
       "    }\n",
       "</style>\n",
       "<table border=\"1\" class=\"dataframe\">\n",
       "  <thead>\n",
       "    <tr style=\"text-align: right;\">\n",
       "      <th></th>\n",
       "      <th>day_001</th>\n",
       "      <th>day_002</th>\n",
       "      <th>day_003</th>\n",
       "      <th>day_004</th>\n",
       "      <th>day_005</th>\n",
       "      <th>day_006</th>\n",
       "    </tr>\n",
       "  </thead>\n",
       "  <tbody>\n",
       "    <tr>\n",
       "      <th>0</th>\n",
       "      <td>8:56 AM</td>\n",
       "      <td>9:00 AM</td>\n",
       "      <td>7:45 AM</td>\n",
       "      <td>7:45 AM</td>\n",
       "      <td>8:05 AM</td>\n",
       "      <td>7:45 AM</td>\n",
       "    </tr>\n",
       "    <tr>\n",
       "      <th>1</th>\n",
       "      <td>8:40 AM</td>\n",
       "      <td>8:40 AM</td>\n",
       "      <td>8:30 AM</td>\n",
       "      <td>8:30 AM</td>\n",
       "      <td>8:45 AM</td>\n",
       "      <td>8:20 AM</td>\n",
       "    </tr>\n",
       "    <tr>\n",
       "      <th>2</th>\n",
       "      <td>8:45 AM</td>\n",
       "      <td>8:20 AM</td>\n",
       "      <td>8:05 AM</td>\n",
       "      <td>8:00 AM</td>\n",
       "      <td>8:05 AM</td>\n",
       "      <td>8:00 AM</td>\n",
       "    </tr>\n",
       "    <tr>\n",
       "      <th>3</th>\n",
       "      <td>8:40 AM</td>\n",
       "      <td>8:40 AM</td>\n",
       "      <td>8:40 AM</td>\n",
       "      <td>8:25 AM</td>\n",
       "      <td>8:40 AM</td>\n",
       "      <td>8:40 AM</td>\n",
       "    </tr>\n",
       "    <tr>\n",
       "      <th>4</th>\n",
       "      <td>8:55 AM</td>\n",
       "      <td>8:50 AM</td>\n",
       "      <td>8:55 AM</td>\n",
       "      <td>8:10 AM</td>\n",
       "      <td>8:15 AM</td>\n",
       "      <td>8:05 AM</td>\n",
       "    </tr>\n",
       "    <tr>\n",
       "      <th>5</th>\n",
       "      <td>8:45 AM</td>\n",
       "      <td>8:45 AM</td>\n",
       "      <td>8:45 AM</td>\n",
       "      <td>8:40 AM</td>\n",
       "      <td>8:30 AM</td>\n",
       "      <td>8:40 AM</td>\n",
       "    </tr>\n",
       "    <tr>\n",
       "      <th>6</th>\n",
       "      <td>8:45 AM</td>\n",
       "      <td>8:54 AM</td>\n",
       "      <td>8:38 AM</td>\n",
       "      <td>8:40 AM</td>\n",
       "      <td>8:32 AM</td>\n",
       "      <td>8:41 AM</td>\n",
       "    </tr>\n",
       "    <tr>\n",
       "      <th>7</th>\n",
       "      <td>absent</td>\n",
       "      <td>11:00 AM</td>\n",
       "      <td>8:35 AM</td>\n",
       "      <td>8:15 AM</td>\n",
       "      <td>8:10 AM</td>\n",
       "      <td>8:10 AM</td>\n",
       "    </tr>\n",
       "    <tr>\n",
       "      <th>8</th>\n",
       "      <td>8:39 AM</td>\n",
       "      <td>8:13 AM</td>\n",
       "      <td>8:15 AM</td>\n",
       "      <td>8:12 AM</td>\n",
       "      <td>8:10 AM</td>\n",
       "      <td>8:00 AM</td>\n",
       "    </tr>\n",
       "    <tr>\n",
       "      <th>9</th>\n",
       "      <td>9:00 AM</td>\n",
       "      <td>8:50 AM</td>\n",
       "      <td>8:50 AM</td>\n",
       "      <td>8:50 AM</td>\n",
       "      <td>8:40 AM</td>\n",
       "      <td>8:45 AM</td>\n",
       "    </tr>\n",
       "    <tr>\n",
       "      <th>10</th>\n",
       "      <td>8:40 AM</td>\n",
       "      <td>8:50 AM</td>\n",
       "      <td>8:40 AM</td>\n",
       "      <td>8:34 AM</td>\n",
       "      <td>8:20 AM</td>\n",
       "      <td>8:30 AM</td>\n",
       "    </tr>\n",
       "    <tr>\n",
       "      <th>11</th>\n",
       "      <td>8:15 AM</td>\n",
       "      <td>8:30 AM</td>\n",
       "      <td>8:13 AM</td>\n",
       "      <td>8:30 AM</td>\n",
       "      <td>7:45 AM</td>\n",
       "      <td>8:40 AM</td>\n",
       "    </tr>\n",
       "    <tr>\n",
       "      <th>12</th>\n",
       "      <td>8:45 AM</td>\n",
       "      <td>8:55 AM</td>\n",
       "      <td>8:45 AM</td>\n",
       "      <td>8:45 AM</td>\n",
       "      <td>8:00 AM</td>\n",
       "      <td>8:45 AM</td>\n",
       "    </tr>\n",
       "    <tr>\n",
       "      <th>13</th>\n",
       "      <td>8:45 AM</td>\n",
       "      <td>8:45 AM</td>\n",
       "      <td>8:05 AM</td>\n",
       "      <td>8:00 AM</td>\n",
       "      <td>8:00 AM</td>\n",
       "      <td>8:00 AM</td>\n",
       "    </tr>\n",
       "    <tr>\n",
       "      <th>14</th>\n",
       "      <td>8:45 AM</td>\n",
       "      <td>8:45 AM</td>\n",
       "      <td>9:00 AM</td>\n",
       "      <td>9:00 AM</td>\n",
       "      <td>8:50 AM</td>\n",
       "      <td>9:00 AM</td>\n",
       "    </tr>\n",
       "    <tr>\n",
       "      <th>15</th>\n",
       "      <td>8:15 AM</td>\n",
       "      <td>8:40 AM</td>\n",
       "      <td>8:25 AM</td>\n",
       "      <td>8:30 AM</td>\n",
       "      <td>7:30 AM</td>\n",
       "      <td>8:25 AM</td>\n",
       "    </tr>\n",
       "    <tr>\n",
       "      <th>16</th>\n",
       "      <td>8:45 AM</td>\n",
       "      <td>8:40 AM</td>\n",
       "      <td>8:45 AM</td>\n",
       "      <td>8:55 AM</td>\n",
       "      <td>8:45 AM</td>\n",
       "      <td>8:45 AM</td>\n",
       "    </tr>\n",
       "    <tr>\n",
       "      <th>17</th>\n",
       "      <td>8:45 AM</td>\n",
       "      <td>9:00 AM</td>\n",
       "      <td>9:00 AM</td>\n",
       "      <td>9:00 AM</td>\n",
       "      <td>9:00 AM</td>\n",
       "      <td>9:00 AM</td>\n",
       "    </tr>\n",
       "    <tr>\n",
       "      <th>18</th>\n",
       "      <td>8:50 AM</td>\n",
       "      <td>8:50 AM</td>\n",
       "      <td>8:57 AM</td>\n",
       "      <td>8:42 AM</td>\n",
       "      <td>8:35 AM</td>\n",
       "      <td>8:30 AM</td>\n",
       "    </tr>\n",
       "    <tr>\n",
       "      <th>19</th>\n",
       "      <td>8:15 AM</td>\n",
       "      <td>9:00 AM</td>\n",
       "      <td>8:35 AM</td>\n",
       "      <td>9:00 AM</td>\n",
       "      <td>8:58 AM</td>\n",
       "      <td>8:20 AM</td>\n",
       "    </tr>\n",
       "    <tr>\n",
       "      <th>20</th>\n",
       "      <td>8:45 AM</td>\n",
       "      <td>8:35 AM</td>\n",
       "      <td>8:27 AM</td>\n",
       "      <td>8:46 AM</td>\n",
       "      <td>8:31 AM</td>\n",
       "      <td>8:37 AM</td>\n",
       "    </tr>\n",
       "    <tr>\n",
       "      <th>21</th>\n",
       "      <td>8:45 AM</td>\n",
       "      <td>8:45 AM</td>\n",
       "      <td>9:00 AM</td>\n",
       "      <td>8:57 AM</td>\n",
       "      <td>8:57 AM</td>\n",
       "      <td>8:50 AM</td>\n",
       "    </tr>\n",
       "    <tr>\n",
       "      <th>22</th>\n",
       "      <td>8:45 AM</td>\n",
       "      <td>8:50 AM</td>\n",
       "      <td>8:30 AM</td>\n",
       "      <td>8:45 AM</td>\n",
       "      <td>8:50 AM</td>\n",
       "      <td>8:10 AM</td>\n",
       "    </tr>\n",
       "  </tbody>\n",
       "</table>\n",
       "</div>"
      ],
      "text/plain": [
       "    day_001   day_002  day_003  day_004  day_005  day_006\n",
       "0   8:56 AM   9:00 AM  7:45 AM  7:45 AM  8:05 AM  7:45 AM\n",
       "1   8:40 AM   8:40 AM  8:30 AM  8:30 AM  8:45 AM  8:20 AM\n",
       "2   8:45 AM   8:20 AM  8:05 AM  8:00 AM  8:05 AM  8:00 AM\n",
       "3   8:40 AM   8:40 AM  8:40 AM  8:25 AM  8:40 AM  8:40 AM\n",
       "4   8:55 AM   8:50 AM  8:55 AM  8:10 AM  8:15 AM  8:05 AM\n",
       "5   8:45 AM   8:45 AM  8:45 AM  8:40 AM  8:30 AM  8:40 AM\n",
       "6   8:45 AM   8:54 AM  8:38 AM  8:40 AM  8:32 AM  8:41 AM\n",
       "7    absent  11:00 AM  8:35 AM  8:15 AM  8:10 AM  8:10 AM\n",
       "8   8:39 AM   8:13 AM  8:15 AM  8:12 AM  8:10 AM  8:00 AM\n",
       "9   9:00 AM   8:50 AM  8:50 AM  8:50 AM  8:40 AM  8:45 AM\n",
       "10  8:40 AM   8:50 AM  8:40 AM  8:34 AM  8:20 AM  8:30 AM\n",
       "11  8:15 AM   8:30 AM  8:13 AM  8:30 AM  7:45 AM  8:40 AM\n",
       "12  8:45 AM   8:55 AM  8:45 AM  8:45 AM  8:00 AM  8:45 AM\n",
       "13  8:45 AM   8:45 AM  8:05 AM  8:00 AM  8:00 AM  8:00 AM\n",
       "14  8:45 AM   8:45 AM  9:00 AM  9:00 AM  8:50 AM  9:00 AM\n",
       "15  8:15 AM   8:40 AM  8:25 AM  8:30 AM  7:30 AM  8:25 AM\n",
       "16  8:45 AM   8:40 AM  8:45 AM  8:55 AM  8:45 AM  8:45 AM\n",
       "17  8:45 AM   9:00 AM  9:00 AM  9:00 AM  9:00 AM  9:00 AM\n",
       "18  8:50 AM   8:50 AM  8:57 AM  8:42 AM  8:35 AM  8:30 AM\n",
       "19  8:15 AM   9:00 AM  8:35 AM  9:00 AM  8:58 AM  8:20 AM\n",
       "20  8:45 AM   8:35 AM  8:27 AM  8:46 AM  8:31 AM  8:37 AM\n",
       "21  8:45 AM   8:45 AM  9:00 AM  8:57 AM  8:57 AM  8:50 AM\n",
       "22  8:45 AM   8:50 AM  8:30 AM  8:45 AM  8:50 AM  8:10 AM"
      ]
     },
     "execution_count": 7,
     "metadata": {},
     "output_type": "execute_result"
    }
   ],
   "source": [
    "# I know the dataset is small, so I'm just going to look at all the rows :)\n",
    "arrivals"
   ]
  },
  {
   "cell_type": "markdown",
   "metadata": {},
   "source": [
    "---"
   ]
  },
  {
   "cell_type": "markdown",
   "metadata": {},
   "source": [
    "* Decide how to deal with any missing values in the data."
   ]
  },
  {
   "cell_type": "markdown",
   "metadata": {},
   "source": [
    "---"
   ]
  },
  {
   "cell_type": "markdown",
   "metadata": {},
   "source": [
    "I see that there is one '`absent`', let's try to coerce all the columns to dates!\n",
    "\n",
    "We did this last week, let me dig up some example code:\n",
    "```python\n",
    "pd.to_datetime(sales_data_wm['DocumentDate'])\n",
    "```\n",
    "Ok, let's try to `apply` to all the columns."
   ]
  },
  {
   "cell_type": "code",
   "execution_count": 11,
   "metadata": {},
   "outputs": [
    {
     "ename": "TypeError",
     "evalue": "applymap() got an unexpected keyword argument 'errors'",
     "output_type": "error",
     "traceback": [
      "\u001b[0;31m---------------------------------------------------------------------------\u001b[0m",
      "\u001b[0;31mTypeError\u001b[0m                                 Traceback (most recent call last)",
      "\u001b[0;32m<ipython-input-11-eda4f648916a>\u001b[0m in \u001b[0;36m<module>\u001b[0;34m()\u001b[0m\n\u001b[0;32m----> 1\u001b[0;31m \u001b[0marrivals_clean\u001b[0m \u001b[0;34m=\u001b[0m \u001b[0marrivals\u001b[0m\u001b[0;34m.\u001b[0m\u001b[0mapplymap\u001b[0m\u001b[0;34m(\u001b[0m\u001b[0mpd\u001b[0m\u001b[0;34m.\u001b[0m\u001b[0mto_datetime\u001b[0m\u001b[0;34m,\u001b[0m \u001b[0merrors\u001b[0m \u001b[0;34m=\u001b[0m \u001b[0;34m'coerce'\u001b[0m\u001b[0;34m)\u001b[0m\u001b[0;34m\u001b[0m\u001b[0m\n\u001b[0m",
      "\u001b[0;31mTypeError\u001b[0m: applymap() got an unexpected keyword argument 'errors'"
     ]
    }
   ],
   "source": [
    "arrivals_clean = arrivals.applymap(pd.to_datetime, errors = 'coerce')"
   ]
  },
  {
   "cell_type": "markdown",
   "metadata": {},
   "source": [
    "Hmmm, I'll just brute-force apply column by column.\n",
    "\n",
    "Actually I don't have too because I have a list with all the column names, `cols`!"
   ]
  },
  {
   "cell_type": "code",
   "execution_count": 12,
   "metadata": {},
   "outputs": [],
   "source": [
    "arrivals = arrivals.loc[:,cols].apply( pd.to_datetime, errors = 'coerce')"
   ]
  },
  {
   "cell_type": "code",
   "execution_count": 13,
   "metadata": {},
   "outputs": [
    {
     "data": {
      "text/html": [
       "<div>\n",
       "<style scoped>\n",
       "    .dataframe tbody tr th:only-of-type {\n",
       "        vertical-align: middle;\n",
       "    }\n",
       "\n",
       "    .dataframe tbody tr th {\n",
       "        vertical-align: top;\n",
       "    }\n",
       "\n",
       "    .dataframe thead th {\n",
       "        text-align: right;\n",
       "    }\n",
       "</style>\n",
       "<table border=\"1\" class=\"dataframe\">\n",
       "  <thead>\n",
       "    <tr style=\"text-align: right;\">\n",
       "      <th></th>\n",
       "      <th>day_001</th>\n",
       "      <th>day_002</th>\n",
       "      <th>day_003</th>\n",
       "      <th>day_004</th>\n",
       "      <th>day_005</th>\n",
       "      <th>day_006</th>\n",
       "    </tr>\n",
       "  </thead>\n",
       "  <tbody>\n",
       "    <tr>\n",
       "      <th>0</th>\n",
       "      <td>2019-04-09 08:56:00</td>\n",
       "      <td>2019-04-09 09:00:00</td>\n",
       "      <td>2019-04-09 07:45:00</td>\n",
       "      <td>2019-04-09 07:45:00</td>\n",
       "      <td>2019-04-09 08:05:00</td>\n",
       "      <td>2019-04-09 07:45:00</td>\n",
       "    </tr>\n",
       "    <tr>\n",
       "      <th>1</th>\n",
       "      <td>2019-04-09 08:40:00</td>\n",
       "      <td>2019-04-09 08:40:00</td>\n",
       "      <td>2019-04-09 08:30:00</td>\n",
       "      <td>2019-04-09 08:30:00</td>\n",
       "      <td>2019-04-09 08:45:00</td>\n",
       "      <td>2019-04-09 08:20:00</td>\n",
       "    </tr>\n",
       "    <tr>\n",
       "      <th>2</th>\n",
       "      <td>2019-04-09 08:45:00</td>\n",
       "      <td>2019-04-09 08:20:00</td>\n",
       "      <td>2019-04-09 08:05:00</td>\n",
       "      <td>2019-04-09 08:00:00</td>\n",
       "      <td>2019-04-09 08:05:00</td>\n",
       "      <td>2019-04-09 08:00:00</td>\n",
       "    </tr>\n",
       "    <tr>\n",
       "      <th>3</th>\n",
       "      <td>2019-04-09 08:40:00</td>\n",
       "      <td>2019-04-09 08:40:00</td>\n",
       "      <td>2019-04-09 08:40:00</td>\n",
       "      <td>2019-04-09 08:25:00</td>\n",
       "      <td>2019-04-09 08:40:00</td>\n",
       "      <td>2019-04-09 08:40:00</td>\n",
       "    </tr>\n",
       "    <tr>\n",
       "      <th>4</th>\n",
       "      <td>2019-04-09 08:55:00</td>\n",
       "      <td>2019-04-09 08:50:00</td>\n",
       "      <td>2019-04-09 08:55:00</td>\n",
       "      <td>2019-04-09 08:10:00</td>\n",
       "      <td>2019-04-09 08:15:00</td>\n",
       "      <td>2019-04-09 08:05:00</td>\n",
       "    </tr>\n",
       "    <tr>\n",
       "      <th>5</th>\n",
       "      <td>2019-04-09 08:45:00</td>\n",
       "      <td>2019-04-09 08:45:00</td>\n",
       "      <td>2019-04-09 08:45:00</td>\n",
       "      <td>2019-04-09 08:40:00</td>\n",
       "      <td>2019-04-09 08:30:00</td>\n",
       "      <td>2019-04-09 08:40:00</td>\n",
       "    </tr>\n",
       "    <tr>\n",
       "      <th>6</th>\n",
       "      <td>2019-04-09 08:45:00</td>\n",
       "      <td>2019-04-09 08:54:00</td>\n",
       "      <td>2019-04-09 08:38:00</td>\n",
       "      <td>2019-04-09 08:40:00</td>\n",
       "      <td>2019-04-09 08:32:00</td>\n",
       "      <td>2019-04-09 08:41:00</td>\n",
       "    </tr>\n",
       "    <tr>\n",
       "      <th>7</th>\n",
       "      <td>NaT</td>\n",
       "      <td>2019-04-09 11:00:00</td>\n",
       "      <td>2019-04-09 08:35:00</td>\n",
       "      <td>2019-04-09 08:15:00</td>\n",
       "      <td>2019-04-09 08:10:00</td>\n",
       "      <td>2019-04-09 08:10:00</td>\n",
       "    </tr>\n",
       "    <tr>\n",
       "      <th>8</th>\n",
       "      <td>2019-04-09 08:39:00</td>\n",
       "      <td>2019-04-09 08:13:00</td>\n",
       "      <td>2019-04-09 08:15:00</td>\n",
       "      <td>2019-04-09 08:12:00</td>\n",
       "      <td>2019-04-09 08:10:00</td>\n",
       "      <td>2019-04-09 08:00:00</td>\n",
       "    </tr>\n",
       "    <tr>\n",
       "      <th>9</th>\n",
       "      <td>2019-04-09 09:00:00</td>\n",
       "      <td>2019-04-09 08:50:00</td>\n",
       "      <td>2019-04-09 08:50:00</td>\n",
       "      <td>2019-04-09 08:50:00</td>\n",
       "      <td>2019-04-09 08:40:00</td>\n",
       "      <td>2019-04-09 08:45:00</td>\n",
       "    </tr>\n",
       "    <tr>\n",
       "      <th>10</th>\n",
       "      <td>2019-04-09 08:40:00</td>\n",
       "      <td>2019-04-09 08:50:00</td>\n",
       "      <td>2019-04-09 08:40:00</td>\n",
       "      <td>2019-04-09 08:34:00</td>\n",
       "      <td>2019-04-09 08:20:00</td>\n",
       "      <td>2019-04-09 08:30:00</td>\n",
       "    </tr>\n",
       "    <tr>\n",
       "      <th>11</th>\n",
       "      <td>2019-04-09 08:15:00</td>\n",
       "      <td>2019-04-09 08:30:00</td>\n",
       "      <td>2019-04-09 08:13:00</td>\n",
       "      <td>2019-04-09 08:30:00</td>\n",
       "      <td>2019-04-09 07:45:00</td>\n",
       "      <td>2019-04-09 08:40:00</td>\n",
       "    </tr>\n",
       "    <tr>\n",
       "      <th>12</th>\n",
       "      <td>2019-04-09 08:45:00</td>\n",
       "      <td>2019-04-09 08:55:00</td>\n",
       "      <td>2019-04-09 08:45:00</td>\n",
       "      <td>2019-04-09 08:45:00</td>\n",
       "      <td>2019-04-09 08:00:00</td>\n",
       "      <td>2019-04-09 08:45:00</td>\n",
       "    </tr>\n",
       "    <tr>\n",
       "      <th>13</th>\n",
       "      <td>2019-04-09 08:45:00</td>\n",
       "      <td>2019-04-09 08:45:00</td>\n",
       "      <td>2019-04-09 08:05:00</td>\n",
       "      <td>2019-04-09 08:00:00</td>\n",
       "      <td>2019-04-09 08:00:00</td>\n",
       "      <td>2019-04-09 08:00:00</td>\n",
       "    </tr>\n",
       "    <tr>\n",
       "      <th>14</th>\n",
       "      <td>2019-04-09 08:45:00</td>\n",
       "      <td>2019-04-09 08:45:00</td>\n",
       "      <td>2019-04-09 09:00:00</td>\n",
       "      <td>2019-04-09 09:00:00</td>\n",
       "      <td>2019-04-09 08:50:00</td>\n",
       "      <td>2019-04-09 09:00:00</td>\n",
       "    </tr>\n",
       "    <tr>\n",
       "      <th>15</th>\n",
       "      <td>2019-04-09 08:15:00</td>\n",
       "      <td>2019-04-09 08:40:00</td>\n",
       "      <td>2019-04-09 08:25:00</td>\n",
       "      <td>2019-04-09 08:30:00</td>\n",
       "      <td>2019-04-09 07:30:00</td>\n",
       "      <td>2019-04-09 08:25:00</td>\n",
       "    </tr>\n",
       "    <tr>\n",
       "      <th>16</th>\n",
       "      <td>2019-04-09 08:45:00</td>\n",
       "      <td>2019-04-09 08:40:00</td>\n",
       "      <td>2019-04-09 08:45:00</td>\n",
       "      <td>2019-04-09 08:55:00</td>\n",
       "      <td>2019-04-09 08:45:00</td>\n",
       "      <td>2019-04-09 08:45:00</td>\n",
       "    </tr>\n",
       "    <tr>\n",
       "      <th>17</th>\n",
       "      <td>2019-04-09 08:45:00</td>\n",
       "      <td>2019-04-09 09:00:00</td>\n",
       "      <td>2019-04-09 09:00:00</td>\n",
       "      <td>2019-04-09 09:00:00</td>\n",
       "      <td>2019-04-09 09:00:00</td>\n",
       "      <td>2019-04-09 09:00:00</td>\n",
       "    </tr>\n",
       "    <tr>\n",
       "      <th>18</th>\n",
       "      <td>2019-04-09 08:50:00</td>\n",
       "      <td>2019-04-09 08:50:00</td>\n",
       "      <td>2019-04-09 08:57:00</td>\n",
       "      <td>2019-04-09 08:42:00</td>\n",
       "      <td>2019-04-09 08:35:00</td>\n",
       "      <td>2019-04-09 08:30:00</td>\n",
       "    </tr>\n",
       "    <tr>\n",
       "      <th>19</th>\n",
       "      <td>2019-04-09 08:15:00</td>\n",
       "      <td>2019-04-09 09:00:00</td>\n",
       "      <td>2019-04-09 08:35:00</td>\n",
       "      <td>2019-04-09 09:00:00</td>\n",
       "      <td>2019-04-09 08:58:00</td>\n",
       "      <td>2019-04-09 08:20:00</td>\n",
       "    </tr>\n",
       "    <tr>\n",
       "      <th>20</th>\n",
       "      <td>2019-04-09 08:45:00</td>\n",
       "      <td>2019-04-09 08:35:00</td>\n",
       "      <td>2019-04-09 08:27:00</td>\n",
       "      <td>2019-04-09 08:46:00</td>\n",
       "      <td>2019-04-09 08:31:00</td>\n",
       "      <td>2019-04-09 08:37:00</td>\n",
       "    </tr>\n",
       "    <tr>\n",
       "      <th>21</th>\n",
       "      <td>2019-04-09 08:45:00</td>\n",
       "      <td>2019-04-09 08:45:00</td>\n",
       "      <td>2019-04-09 09:00:00</td>\n",
       "      <td>2019-04-09 08:57:00</td>\n",
       "      <td>2019-04-09 08:57:00</td>\n",
       "      <td>2019-04-09 08:50:00</td>\n",
       "    </tr>\n",
       "    <tr>\n",
       "      <th>22</th>\n",
       "      <td>2019-04-09 08:45:00</td>\n",
       "      <td>2019-04-09 08:50:00</td>\n",
       "      <td>2019-04-09 08:30:00</td>\n",
       "      <td>2019-04-09 08:45:00</td>\n",
       "      <td>2019-04-09 08:50:00</td>\n",
       "      <td>2019-04-09 08:10:00</td>\n",
       "    </tr>\n",
       "  </tbody>\n",
       "</table>\n",
       "</div>"
      ],
      "text/plain": [
       "               day_001             day_002             day_003  \\\n",
       "0  2019-04-09 08:56:00 2019-04-09 09:00:00 2019-04-09 07:45:00   \n",
       "1  2019-04-09 08:40:00 2019-04-09 08:40:00 2019-04-09 08:30:00   \n",
       "2  2019-04-09 08:45:00 2019-04-09 08:20:00 2019-04-09 08:05:00   \n",
       "3  2019-04-09 08:40:00 2019-04-09 08:40:00 2019-04-09 08:40:00   \n",
       "4  2019-04-09 08:55:00 2019-04-09 08:50:00 2019-04-09 08:55:00   \n",
       "5  2019-04-09 08:45:00 2019-04-09 08:45:00 2019-04-09 08:45:00   \n",
       "6  2019-04-09 08:45:00 2019-04-09 08:54:00 2019-04-09 08:38:00   \n",
       "7                  NaT 2019-04-09 11:00:00 2019-04-09 08:35:00   \n",
       "8  2019-04-09 08:39:00 2019-04-09 08:13:00 2019-04-09 08:15:00   \n",
       "9  2019-04-09 09:00:00 2019-04-09 08:50:00 2019-04-09 08:50:00   \n",
       "10 2019-04-09 08:40:00 2019-04-09 08:50:00 2019-04-09 08:40:00   \n",
       "11 2019-04-09 08:15:00 2019-04-09 08:30:00 2019-04-09 08:13:00   \n",
       "12 2019-04-09 08:45:00 2019-04-09 08:55:00 2019-04-09 08:45:00   \n",
       "13 2019-04-09 08:45:00 2019-04-09 08:45:00 2019-04-09 08:05:00   \n",
       "14 2019-04-09 08:45:00 2019-04-09 08:45:00 2019-04-09 09:00:00   \n",
       "15 2019-04-09 08:15:00 2019-04-09 08:40:00 2019-04-09 08:25:00   \n",
       "16 2019-04-09 08:45:00 2019-04-09 08:40:00 2019-04-09 08:45:00   \n",
       "17 2019-04-09 08:45:00 2019-04-09 09:00:00 2019-04-09 09:00:00   \n",
       "18 2019-04-09 08:50:00 2019-04-09 08:50:00 2019-04-09 08:57:00   \n",
       "19 2019-04-09 08:15:00 2019-04-09 09:00:00 2019-04-09 08:35:00   \n",
       "20 2019-04-09 08:45:00 2019-04-09 08:35:00 2019-04-09 08:27:00   \n",
       "21 2019-04-09 08:45:00 2019-04-09 08:45:00 2019-04-09 09:00:00   \n",
       "22 2019-04-09 08:45:00 2019-04-09 08:50:00 2019-04-09 08:30:00   \n",
       "\n",
       "               day_004             day_005             day_006  \n",
       "0  2019-04-09 07:45:00 2019-04-09 08:05:00 2019-04-09 07:45:00  \n",
       "1  2019-04-09 08:30:00 2019-04-09 08:45:00 2019-04-09 08:20:00  \n",
       "2  2019-04-09 08:00:00 2019-04-09 08:05:00 2019-04-09 08:00:00  \n",
       "3  2019-04-09 08:25:00 2019-04-09 08:40:00 2019-04-09 08:40:00  \n",
       "4  2019-04-09 08:10:00 2019-04-09 08:15:00 2019-04-09 08:05:00  \n",
       "5  2019-04-09 08:40:00 2019-04-09 08:30:00 2019-04-09 08:40:00  \n",
       "6  2019-04-09 08:40:00 2019-04-09 08:32:00 2019-04-09 08:41:00  \n",
       "7  2019-04-09 08:15:00 2019-04-09 08:10:00 2019-04-09 08:10:00  \n",
       "8  2019-04-09 08:12:00 2019-04-09 08:10:00 2019-04-09 08:00:00  \n",
       "9  2019-04-09 08:50:00 2019-04-09 08:40:00 2019-04-09 08:45:00  \n",
       "10 2019-04-09 08:34:00 2019-04-09 08:20:00 2019-04-09 08:30:00  \n",
       "11 2019-04-09 08:30:00 2019-04-09 07:45:00 2019-04-09 08:40:00  \n",
       "12 2019-04-09 08:45:00 2019-04-09 08:00:00 2019-04-09 08:45:00  \n",
       "13 2019-04-09 08:00:00 2019-04-09 08:00:00 2019-04-09 08:00:00  \n",
       "14 2019-04-09 09:00:00 2019-04-09 08:50:00 2019-04-09 09:00:00  \n",
       "15 2019-04-09 08:30:00 2019-04-09 07:30:00 2019-04-09 08:25:00  \n",
       "16 2019-04-09 08:55:00 2019-04-09 08:45:00 2019-04-09 08:45:00  \n",
       "17 2019-04-09 09:00:00 2019-04-09 09:00:00 2019-04-09 09:00:00  \n",
       "18 2019-04-09 08:42:00 2019-04-09 08:35:00 2019-04-09 08:30:00  \n",
       "19 2019-04-09 09:00:00 2019-04-09 08:58:00 2019-04-09 08:20:00  \n",
       "20 2019-04-09 08:46:00 2019-04-09 08:31:00 2019-04-09 08:37:00  \n",
       "21 2019-04-09 08:57:00 2019-04-09 08:57:00 2019-04-09 08:50:00  \n",
       "22 2019-04-09 08:45:00 2019-04-09 08:50:00 2019-04-09 08:10:00  "
      ]
     },
     "execution_count": 13,
     "metadata": {},
     "output_type": "execute_result"
    }
   ],
   "source": [
    "arrivals"
   ]
  },
  {
   "cell_type": "markdown",
   "metadata": {},
   "source": [
    "Nice."
   ]
  },
  {
   "cell_type": "markdown",
   "metadata": {},
   "source": [
    "---"
   ]
  },
  {
   "cell_type": "markdown",
   "metadata": {},
   "source": [
    "#### 3(b) Visualize the data\n",
    "\n",
    "* Create some visualizations of the attendance data. Note that it can be grouped by day or aggregated together."
   ]
  },
  {
   "cell_type": "markdown",
   "metadata": {},
   "source": [
    "* At least one of your visualizations _must_ be a histogram."
   ]
  },
  {
   "cell_type": "code",
   "execution_count": 14,
   "metadata": {},
   "outputs": [
    {
     "data": {
      "image/png": "[encoded data removed]",
      "text/plain": [
       "<Figure size 432x288 with 1 Axes>"
      ]
     },
     "metadata": {
      "needs_background": "light"
     },
     "output_type": "display_data"
    }
   ],
   "source": [
    "fig, ax = plt.subplots()\n",
    "\n",
    "_ = ax.hist(arrivals['day_001'], bins = 100)"
   ]
  },
  {
   "cell_type": "markdown",
   "metadata": {},
   "source": [
    "Well that was not great. I think the `NaT` is causing issues, let's look at a day without that row.\n",
    "\n",
    "Let's try without that row, and then"
   ]
  },
  {
   "cell_type": "code",
   "execution_count": 15,
   "metadata": {},
   "outputs": [
    {
     "ename": "NameError",
     "evalue": "name 'mdates' is not defined",
     "output_type": "error",
     "traceback": [
      "\u001b[0;31m---------------------------------------------------------------------------\u001b[0m",
      "\u001b[0;31mNameError\u001b[0m                                 Traceback (most recent call last)",
      "\u001b[0;32m<ipython-input-15-a106bb0896cb>\u001b[0m in \u001b[0;36m<module>\u001b[0;34m()\u001b[0m\n\u001b[1;32m      4\u001b[0m \u001b[0;34m\u001b[0m\u001b[0m\n\u001b[1;32m      5\u001b[0m \u001b[0m_\u001b[0m \u001b[0;34m=\u001b[0m \u001b[0max\u001b[0m\u001b[0;34m.\u001b[0m\u001b[0mhist\u001b[0m\u001b[0;34m(\u001b[0m\u001b[0mday_001_use\u001b[0m\u001b[0;34m)\u001b[0m\u001b[0;34m\u001b[0m\u001b[0m\n\u001b[0;32m----> 6\u001b[0;31m \u001b[0max\u001b[0m\u001b[0;34m.\u001b[0m\u001b[0mxaxis\u001b[0m\u001b[0;34m.\u001b[0m\u001b[0mset_major_locator\u001b[0m\u001b[0;34m(\u001b[0m\u001b[0mmdates\u001b[0m\u001b[0;34m.\u001b[0m\u001b[0mYearLocator\u001b[0m\u001b[0;34m(\u001b[0m\u001b[0;34m)\u001b[0m\u001b[0;34m)\u001b[0m\u001b[0;34m\u001b[0m\u001b[0m\n\u001b[0m\u001b[1;32m      7\u001b[0m \u001b[0max\u001b[0m\u001b[0;34m.\u001b[0m\u001b[0mxaxis\u001b[0m\u001b[0;34m.\u001b[0m\u001b[0mset_major_formatter\u001b[0m\u001b[0;34m(\u001b[0m\u001b[0mmdates\u001b[0m\u001b[0;34m.\u001b[0m\u001b[0mDateFormatter\u001b[0m\u001b[0;34m(\u001b[0m\u001b[0;34m'%H %M'\u001b[0m\u001b[0;34m)\u001b[0m\u001b[0;34m)\u001b[0m\u001b[0;34m\u001b[0m\u001b[0m\n\u001b[1;32m      8\u001b[0m \u001b[0mplt\u001b[0m\u001b[0;34m.\u001b[0m\u001b[0mshow\u001b[0m\u001b[0;34m(\u001b[0m\u001b[0;34m)\u001b[0m\u001b[0;34m\u001b[0m\u001b[0m\n",
      "\u001b[0;31mNameError\u001b[0m: name 'mdates' is not defined"
     ]
    },
    {
     "data": {
      "image/png": "[encoded data removed]",
      "text/plain": [
       "<Figure size 432x288 with 1 Axes>"
      ]
     },
     "metadata": {
      "needs_background": "light"
     },
     "output_type": "display_data"
    }
   ],
   "source": [
    "day_001_use = arrivals.loc[~arrivals['day_001'].isna(),['day_001']]\n",
    "\n",
    "fig,ax = plt.subplots()\n",
    "\n",
    "_ = ax.hist(day_001_use)\n",
    "ax.xaxis.set_major_locator(mdates.YearLocator())\n",
    "ax.xaxis.set_major_formatter(mdates.DateFormatter('%H %M'))\n",
    "plt.show()\n"
   ]
  },
  {
   "cell_type": "markdown",
   "metadata": {},
   "source": [
    "How about I just strip out the time of Day 1 and play with that?"
   ]
  },
  {
   "cell_type": "code",
   "execution_count": 17,
   "metadata": {},
   "outputs": [
    {
     "data": {
      "text/plain": [
       "08 45    11\n",
       "08 40     3\n",
       "08 15     3\n",
       "NaT       1\n",
       "08 56     1\n",
       "08 55     1\n",
       "08 50     1\n",
       "08 39     1\n",
       "09 00     1\n",
       "Name: day_001_ts_str, dtype: int64"
      ]
     },
     "execution_count": 17,
     "metadata": {},
     "output_type": "execute_result"
    }
   ],
   "source": [
    "# Get timestamp as string from Day 1\n",
    "arrivals['day_001_ts_str'] = arrivals['day_001'].dt.strftime('%H %M')\n",
    "arrivals['day_001_ts_str'].value_counts()"
   ]
  },
  {
   "cell_type": "markdown",
   "metadata": {},
   "source": [
    "Good enough for now."
   ]
  },
  {
   "cell_type": "code",
   "execution_count": 18,
   "metadata": {},
   "outputs": [
    {
     "data": {
      "text/plain": [
       "08 45    11\n",
       "08 40     3\n",
       "08 15     3\n",
       "08 56     1\n",
       "08 55     1\n",
       "08 50     1\n",
       "08 39     1\n",
       "09 00     1\n",
       "Name: day_001_ts_str, dtype: int64"
      ]
     },
     "execution_count": 18,
     "metadata": {},
     "output_type": "execute_result"
    }
   ],
   "source": [
    "day_001_use = arrivals['day_001_ts_str'].loc[arrivals['day_001_ts_str'] != 'NaT']\n",
    "day_001_use.value_counts()"
   ]
  },
  {
   "cell_type": "code",
   "execution_count": 19,
   "metadata": {},
   "outputs": [
    {
     "data": {
      "text/plain": [
       "([array([1., 0.]),\n",
       "  array([1., 0.]),\n",
       "  array([1., 0.]),\n",
       "  array([1., 0.]),\n",
       "  array([1., 0.]),\n",
       "  array([1., 0.]),\n",
       "  array([1., 0.]),\n",
       "  array([0., 1.]),\n",
       "  array([0., 1.]),\n",
       "  array([1., 0.]),\n",
       "  array([0., 1.]),\n",
       "  array([1., 0.]),\n",
       "  array([1., 0.]),\n",
       "  array([1., 0.]),\n",
       "  array([0., 1.]),\n",
       "  array([1., 0.]),\n",
       "  array([1., 0.]),\n",
       "  array([0., 1.]),\n",
       "  array([0., 1.]),\n",
       "  array([1., 0.]),\n",
       "  array([1., 0.]),\n",
       "  array([1., 0.])],\n",
       " array([0. , 3.5, 7. ]),\n",
       " <a list of 22 Lists of Patches objects>)"
      ]
     },
     "execution_count": 19,
     "metadata": {},
     "output_type": "execute_result"
    },
    {
     "data": {
      "image/png": "[encoded data removed]",
      "text/plain": [
       "<Figure size 432x288 with 1 Axes>"
      ]
     },
     "metadata": {
      "needs_background": "light"
     },
     "output_type": "display_data"
    }
   ],
   "source": [
    "fig, ax = plt.subplots()\n",
    "\n",
    "ax.hist(day_001_use,bins=2)"
   ]
  },
  {
   "cell_type": "markdown",
   "metadata": {},
   "source": [
    "ok, well let's just use bar chart."
   ]
  },
  {
   "cell_type": "code",
   "execution_count": 20,
   "metadata": {},
   "outputs": [],
   "source": [
    "day_001_smry = pd.DataFrame(day_001_use.value_counts(), index = None)\n",
    "day_001_smry.reset_index(inplace=True)\n",
    "#day_001_sury.reset_index()"
   ]
  },
  {
   "cell_type": "code",
   "execution_count": 21,
   "metadata": {},
   "outputs": [
    {
     "data": {
      "text/plain": [
       "Index(['index', 'day_001_ts_str'], dtype='object')"
      ]
     },
     "execution_count": 21,
     "metadata": {},
     "output_type": "execute_result"
    }
   ],
   "source": [
    "day_001_smry.columns"
   ]
  },
  {
   "cell_type": "code",
   "execution_count": 22,
   "metadata": {},
   "outputs": [],
   "source": [
    "day_001_smry.columns = ['time_str','num_arrivals']\n",
    "day_001_smry.sort_values( by = 'time_str', inplace=True)"
   ]
  },
  {
   "cell_type": "code",
   "execution_count": 23,
   "metadata": {},
   "outputs": [
    {
     "data": {
      "image/png": "[encoded data removed]",
      "text/plain": [
       "<Figure size 432x288 with 1 Axes>"
      ]
     },
     "metadata": {
      "needs_background": "light"
     },
     "output_type": "display_data"
    }
   ],
   "source": [
    "fig, ax = plt.subplots()\n",
    "\n",
    "ax.bar(x = day_001_smry.time_str\n",
    "       ,height = day_001_smry.num_arrivals)\n",
    "ax.set_xlabel(\"hour minutes AM\")\n",
    "ax.set_ylabel(\"students\")\n",
    "ax.set_title(\"Arrival Times on Day 1\")\n",
    "plt.show()"
   ]
  },
  {
   "cell_type": "markdown",
   "metadata": {},
   "source": [
    "#### ... The next morning\n",
    "\n",
    "I really think there's a way to use matplotlib dates to make this histogram happen."
   ]
  },
  {
   "cell_type": "code",
   "execution_count": 24,
   "metadata": {},
   "outputs": [
    {
     "data": {
      "text/html": [
       "<div>\n",
       "<style scoped>\n",
       "    .dataframe tbody tr th:only-of-type {\n",
       "        vertical-align: middle;\n",
       "    }\n",
       "\n",
       "    .dataframe tbody tr th {\n",
       "        vertical-align: top;\n",
       "    }\n",
       "\n",
       "    .dataframe thead th {\n",
       "        text-align: right;\n",
       "    }\n",
       "</style>\n",
       "<table border=\"1\" class=\"dataframe\">\n",
       "  <thead>\n",
       "    <tr style=\"text-align: right;\">\n",
       "      <th></th>\n",
       "      <th>day_001</th>\n",
       "      <th>day_002</th>\n",
       "      <th>day_003</th>\n",
       "      <th>day_004</th>\n",
       "      <th>day_005</th>\n",
       "      <th>day_006</th>\n",
       "      <th>day_001_ts_str</th>\n",
       "    </tr>\n",
       "  </thead>\n",
       "  <tbody>\n",
       "    <tr>\n",
       "      <th>0</th>\n",
       "      <td>2019-04-09 08:56:00</td>\n",
       "      <td>2019-04-09 09:00:00</td>\n",
       "      <td>2019-04-09 07:45:00</td>\n",
       "      <td>2019-04-09 07:45:00</td>\n",
       "      <td>2019-04-09 08:05:00</td>\n",
       "      <td>2019-04-09 07:45:00</td>\n",
       "      <td>08 56</td>\n",
       "    </tr>\n",
       "    <tr>\n",
       "      <th>1</th>\n",
       "      <td>2019-04-09 08:40:00</td>\n",
       "      <td>2019-04-09 08:40:00</td>\n",
       "      <td>2019-04-09 08:30:00</td>\n",
       "      <td>2019-04-09 08:30:00</td>\n",
       "      <td>2019-04-09 08:45:00</td>\n",
       "      <td>2019-04-09 08:20:00</td>\n",
       "      <td>08 40</td>\n",
       "    </tr>\n",
       "    <tr>\n",
       "      <th>2</th>\n",
       "      <td>2019-04-09 08:45:00</td>\n",
       "      <td>2019-04-09 08:20:00</td>\n",
       "      <td>2019-04-09 08:05:00</td>\n",
       "      <td>2019-04-09 08:00:00</td>\n",
       "      <td>2019-04-09 08:05:00</td>\n",
       "      <td>2019-04-09 08:00:00</td>\n",
       "      <td>08 45</td>\n",
       "    </tr>\n",
       "    <tr>\n",
       "      <th>3</th>\n",
       "      <td>2019-04-09 08:40:00</td>\n",
       "      <td>2019-04-09 08:40:00</td>\n",
       "      <td>2019-04-09 08:40:00</td>\n",
       "      <td>2019-04-09 08:25:00</td>\n",
       "      <td>2019-04-09 08:40:00</td>\n",
       "      <td>2019-04-09 08:40:00</td>\n",
       "      <td>08 40</td>\n",
       "    </tr>\n",
       "    <tr>\n",
       "      <th>4</th>\n",
       "      <td>2019-04-09 08:55:00</td>\n",
       "      <td>2019-04-09 08:50:00</td>\n",
       "      <td>2019-04-09 08:55:00</td>\n",
       "      <td>2019-04-09 08:10:00</td>\n",
       "      <td>2019-04-09 08:15:00</td>\n",
       "      <td>2019-04-09 08:05:00</td>\n",
       "      <td>08 55</td>\n",
       "    </tr>\n",
       "  </tbody>\n",
       "</table>\n",
       "</div>"
      ],
      "text/plain": [
       "              day_001             day_002             day_003  \\\n",
       "0 2019-04-09 08:56:00 2019-04-09 09:00:00 2019-04-09 07:45:00   \n",
       "1 2019-04-09 08:40:00 2019-04-09 08:40:00 2019-04-09 08:30:00   \n",
       "2 2019-04-09 08:45:00 2019-04-09 08:20:00 2019-04-09 08:05:00   \n",
       "3 2019-04-09 08:40:00 2019-04-09 08:40:00 2019-04-09 08:40:00   \n",
       "4 2019-04-09 08:55:00 2019-04-09 08:50:00 2019-04-09 08:55:00   \n",
       "\n",
       "              day_004             day_005             day_006 day_001_ts_str  \n",
       "0 2019-04-09 07:45:00 2019-04-09 08:05:00 2019-04-09 07:45:00          08 56  \n",
       "1 2019-04-09 08:30:00 2019-04-09 08:45:00 2019-04-09 08:20:00          08 40  \n",
       "2 2019-04-09 08:00:00 2019-04-09 08:05:00 2019-04-09 08:00:00          08 45  \n",
       "3 2019-04-09 08:25:00 2019-04-09 08:40:00 2019-04-09 08:40:00          08 40  \n",
       "4 2019-04-09 08:10:00 2019-04-09 08:15:00 2019-04-09 08:05:00          08 55  "
      ]
     },
     "execution_count": 24,
     "metadata": {},
     "output_type": "execute_result"
    }
   ],
   "source": [
    "# Let's revisit the dataset\n",
    "arrivals.head()"
   ]
  },
  {
   "cell_type": "code",
   "execution_count": 31,
   "metadata": {},
   "outputs": [
    {
     "data": {
      "text/plain": [
       "Index(['day_001', 'day_002', 'day_003', 'day_004', 'day_005', 'day_006',\n",
       "       'day_001_ts_str'],\n",
       "      dtype='object')"
      ]
     },
     "execution_count": 31,
     "metadata": {},
     "output_type": "execute_result"
    }
   ],
   "source": [
    "arrivals.columns"
   ]
  },
  {
   "cell_type": "code",
   "execution_count": 42,
   "metadata": {},
   "outputs": [
    {
     "data": {
      "image/png": "[encoded data removed]",
      "text/plain": [
       "<Figure size 432x288 with 1 Axes>"
      ]
     },
     "metadata": {
      "needs_background": "light"
     },
     "output_type": "display_data"
    }
   ],
   "source": [
    "import matplotlib.dates as mdates\n",
    "\n",
    "fig, ax = plt.subplots()\n",
    "\n",
    "ax.hist( x = arrivals['day_002'])\n",
    "ax.xaxis.set_major_locator(mdates.HourLocator())\n",
    "ax.xaxis.set_minor_locator(mdates.MinuteLocator())\n",
    "\n",
    "yearFmt = mdates.DateFormatter(\"'%y\")\n",
    "yearFmt = mdates.DateFormatter(\"%H:%M\")\n",
    "ax.xaxis.set_major_formatter(yearFmt)\n",
    "\n",
    "ax.set_xlabel(\"hour minutes AM\")\n",
    "ax.set_ylabel(\"students\")\n",
    "ax.set_title(\"Arrival Times on Day 2\")\n",
    "\n",
    "plt.show()"
   ]
  },
  {
   "cell_type": "markdown",
   "metadata": {},
   "source": [
    "Not bad!"
   ]
  }
 ],
 "metadata": {
  "kernelspec": {
   "display_name": "learn-env",
   "language": "python",
   "name": "learn-env"
  },
  "language_info": {
   "codemirror_mode": {
    "name": "ipython",
    "version": 3
   },
   "file_extension": ".py",
   "mimetype": "text/x-python",
   "name": "python",
   "nbconvert_exporter": "python",
   "pygments_lexer": "ipython3",
   "version": "3.6.6"
  }
 },
 "nbformat": 4,
 "nbformat_minor": 2
}
